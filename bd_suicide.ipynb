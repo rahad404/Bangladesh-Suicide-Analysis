{
 "cells": [
  {
   "cell_type": "code",
   "execution_count": 1,
   "metadata": {},
   "outputs": [],
   "source": [
    "import pandas as pd\n",
    "import numpy as np\n",
    "import seaborn as sns\n",
    "import matplotlib.pyplot as plt\n",
    "import plotly.express as px\n"
   ]
  },
  {
   "cell_type": "markdown",
   "metadata": {},
   "source": [
    "## import the data and make a dataframe"
   ]
  },
  {
   "cell_type": "code",
   "execution_count": 2,
   "metadata": {},
   "outputs": [],
   "source": [
    "suicide_data = pd.read_csv('SuicideBD-dataset.csv')\n",
    "df = suicide_data.copy()\n",
    "df.set_index('id', inplace=True)\n",
    "pd.options.display.max_columns = None"
   ]
  },
  {
   "cell_type": "code",
   "execution_count": 3,
   "metadata": {},
   "outputs": [
    {
     "data": {
      "text/html": [
       "<div>\n",
       "<style scoped>\n",
       "    .dataframe tbody tr th:only-of-type {\n",
       "        vertical-align: middle;\n",
       "    }\n",
       "\n",
       "    .dataframe tbody tr th {\n",
       "        vertical-align: top;\n",
       "    }\n",
       "\n",
       "    .dataframe thead th {\n",
       "        text-align: right;\n",
       "    }\n",
       "</style>\n",
       "<table border=\"1\" class=\"dataframe\">\n",
       "  <thead>\n",
       "    <tr style=\"text-align: right;\">\n",
       "      <th></th>\n",
       "      <th>full_name</th>\n",
       "      <th>age_group</th>\n",
       "      <th>age</th>\n",
       "      <th>gender</th>\n",
       "      <th>profession_group</th>\n",
       "      <th>religion</th>\n",
       "      <th>hometown</th>\n",
       "      <th>latitude</th>\n",
       "      <th>longitude</th>\n",
       "      <th>reason</th>\n",
       "      <th>reason_description</th>\n",
       "      <th>time</th>\n",
       "      <th>method</th>\n",
       "      <th>data_source</th>\n",
       "      <th>suicide_date</th>\n",
       "      <th>unix_time</th>\n",
       "      <th>temperature</th>\n",
       "      <th>feels_like</th>\n",
       "      <th>temp_min</th>\n",
       "      <th>temp_max</th>\n",
       "      <th>air_pressure</th>\n",
       "      <th>air_humidity</th>\n",
       "      <th>wind_speed</th>\n",
       "      <th>wind_deg</th>\n",
       "      <th>clouds_sky</th>\n",
       "      <th>weather_main</th>\n",
       "      <th>weather_description</th>\n",
       "    </tr>\n",
       "    <tr>\n",
       "      <th>id</th>\n",
       "      <th></th>\n",
       "      <th></th>\n",
       "      <th></th>\n",
       "      <th></th>\n",
       "      <th></th>\n",
       "      <th></th>\n",
       "      <th></th>\n",
       "      <th></th>\n",
       "      <th></th>\n",
       "      <th></th>\n",
       "      <th></th>\n",
       "      <th></th>\n",
       "      <th></th>\n",
       "      <th></th>\n",
       "      <th></th>\n",
       "      <th></th>\n",
       "      <th></th>\n",
       "      <th></th>\n",
       "      <th></th>\n",
       "      <th></th>\n",
       "      <th></th>\n",
       "      <th></th>\n",
       "      <th></th>\n",
       "      <th></th>\n",
       "      <th></th>\n",
       "      <th></th>\n",
       "      <th></th>\n",
       "    </tr>\n",
       "  </thead>\n",
       "  <tbody>\n",
       "    <tr>\n",
       "      <th>0</th>\n",
       "      <td>Parvez</td>\n",
       "      <td>Teen</td>\n",
       "      <td>22</td>\n",
       "      <td>Male</td>\n",
       "      <td>Worker</td>\n",
       "      <td>Muslim</td>\n",
       "      <td>Brahmanbaria</td>\n",
       "      <td>23.964142</td>\n",
       "      <td>91.118301</td>\n",
       "      <td>Harassment</td>\n",
       "      <td>Assault</td>\n",
       "      <td>afternoon</td>\n",
       "      <td>NaN</td>\n",
       "      <td>https://www.dhakatribune.com/bangladesh/nation...</td>\n",
       "      <td>30/10/20</td>\n",
       "      <td>1604016000</td>\n",
       "      <td>299.15</td>\n",
       "      <td>302.86</td>\n",
       "      <td>299.15</td>\n",
       "      <td>299.15</td>\n",
       "      <td>1008</td>\n",
       "      <td>83</td>\n",
       "      <td>2.10</td>\n",
       "      <td>320</td>\n",
       "      <td>40</td>\n",
       "      <td>Haze</td>\n",
       "      <td>haze</td>\n",
       "    </tr>\n",
       "    <tr>\n",
       "      <th>1</th>\n",
       "      <td>Alhaj Uddin</td>\n",
       "      <td>Teen</td>\n",
       "      <td>20</td>\n",
       "      <td>Male</td>\n",
       "      <td>NaN</td>\n",
       "      <td>Muslim</td>\n",
       "      <td>Sylhet</td>\n",
       "      <td>24.894930</td>\n",
       "      <td>91.868706</td>\n",
       "      <td>Relatiohship problem</td>\n",
       "      <td>Failed love relationship</td>\n",
       "      <td>Night</td>\n",
       "      <td>Hanging</td>\n",
       "      <td>https://www.dhakatribune.com/bangladesh/nation...</td>\n",
       "      <td>4/11/2020</td>\n",
       "      <td>1604448000</td>\n",
       "      <td>295.57</td>\n",
       "      <td>299.17</td>\n",
       "      <td>295.57</td>\n",
       "      <td>295.57</td>\n",
       "      <td>1012</td>\n",
       "      <td>96</td>\n",
       "      <td>1.39</td>\n",
       "      <td>116</td>\n",
       "      <td>33</td>\n",
       "      <td>Clouds</td>\n",
       "      <td>scattered clouds</td>\n",
       "    </tr>\n",
       "    <tr>\n",
       "      <th>2</th>\n",
       "      <td>Priti Akter</td>\n",
       "      <td>Teen</td>\n",
       "      <td>14</td>\n",
       "      <td>Female</td>\n",
       "      <td>Student</td>\n",
       "      <td>Muslim</td>\n",
       "      <td>Manikganj</td>\n",
       "      <td>23.861650</td>\n",
       "      <td>90.000320</td>\n",
       "      <td>NaN</td>\n",
       "      <td>NaN</td>\n",
       "      <td>Morning</td>\n",
       "      <td>Hanging</td>\n",
       "      <td>https://www.dhakatribune.com/bangladesh/nation...</td>\n",
       "      <td>25/9/20</td>\n",
       "      <td>1600992000</td>\n",
       "      <td>301.15</td>\n",
       "      <td>304.33</td>\n",
       "      <td>301.15</td>\n",
       "      <td>301.15</td>\n",
       "      <td>1004</td>\n",
       "      <td>78</td>\n",
       "      <td>3.60</td>\n",
       "      <td>190</td>\n",
       "      <td>75</td>\n",
       "      <td>Drizzle</td>\n",
       "      <td>drizzle</td>\n",
       "    </tr>\n",
       "  </tbody>\n",
       "</table>\n",
       "</div>"
      ],
      "text/plain": [
       "      full_name age_group age  gender profession_group religion      hometown  \\\n",
       "id                                                                              \n",
       "0        Parvez      Teen  22    Male           Worker   Muslim  Brahmanbaria   \n",
       "1   Alhaj Uddin      Teen  20    Male              NaN   Muslim        Sylhet   \n",
       "2   Priti Akter      Teen  14  Female          Student   Muslim     Manikganj   \n",
       "\n",
       "     latitude  longitude                reason        reason_description  \\\n",
       "id                                                                         \n",
       "0   23.964142  91.118301            Harassment                   Assault   \n",
       "1   24.894930  91.868706  Relatiohship problem  Failed love relationship   \n",
       "2   23.861650  90.000320                   NaN                       NaN   \n",
       "\n",
       "         time   method                                        data_source  \\\n",
       "id                                                                          \n",
       "0   afternoon      NaN  https://www.dhakatribune.com/bangladesh/nation...   \n",
       "1       Night  Hanging  https://www.dhakatribune.com/bangladesh/nation...   \n",
       "2     Morning  Hanging  https://www.dhakatribune.com/bangladesh/nation...   \n",
       "\n",
       "   suicide_date   unix_time  temperature  feels_like  temp_min  temp_max  \\\n",
       "id                                                                         \n",
       "0      30/10/20  1604016000       299.15      302.86    299.15    299.15   \n",
       "1     4/11/2020  1604448000       295.57      299.17    295.57    295.57   \n",
       "2       25/9/20  1600992000       301.15      304.33    301.15    301.15   \n",
       "\n",
       "    air_pressure  air_humidity  wind_speed  wind_deg  clouds_sky weather_main  \\\n",
       "id                                                                              \n",
       "0           1008            83        2.10       320          40         Haze   \n",
       "1           1012            96        1.39       116          33       Clouds   \n",
       "2           1004            78        3.60       190          75      Drizzle   \n",
       "\n",
       "   weather_description  \n",
       "id                      \n",
       "0                 haze  \n",
       "1     scattered clouds  \n",
       "2              drizzle  "
      ]
     },
     "execution_count": 3,
     "metadata": {},
     "output_type": "execute_result"
    }
   ],
   "source": [
    "df.head(3)"
   ]
  },
  {
   "cell_type": "markdown",
   "metadata": {},
   "source": [
    "## data cleaning"
   ]
  },
  {
   "cell_type": "code",
   "execution_count": 4,
   "metadata": {},
   "outputs": [],
   "source": [
    "# delete any duplicate row?\n",
    "df = df.drop_duplicates()"
   ]
  },
  {
   "cell_type": "markdown",
   "metadata": {},
   "source": [
    "remove unnecessary column from dataframe"
   ]
  },
  {
   "cell_type": "code",
   "execution_count": 5,
   "metadata": {},
   "outputs": [],
   "source": [
    "# delete unnecessary column for analysis\n",
    "df.drop(['reason_description','data_source','temperature','feels_like','temp_min','temp_max','air_pressure','air_humidity','wind_speed','wind_deg','clouds_sky','weather_description'], axis=1, inplace=True )"
   ]
  },
  {
   "cell_type": "code",
   "execution_count": 6,
   "metadata": {},
   "outputs": [
    {
     "data": {
      "text/html": [
       "<div>\n",
       "<style scoped>\n",
       "    .dataframe tbody tr th:only-of-type {\n",
       "        vertical-align: middle;\n",
       "    }\n",
       "\n",
       "    .dataframe tbody tr th {\n",
       "        vertical-align: top;\n",
       "    }\n",
       "\n",
       "    .dataframe thead th {\n",
       "        text-align: right;\n",
       "    }\n",
       "</style>\n",
       "<table border=\"1\" class=\"dataframe\">\n",
       "  <thead>\n",
       "    <tr style=\"text-align: right;\">\n",
       "      <th></th>\n",
       "      <th>full_name</th>\n",
       "      <th>age_group</th>\n",
       "      <th>age</th>\n",
       "      <th>gender</th>\n",
       "      <th>profession_group</th>\n",
       "      <th>religion</th>\n",
       "      <th>hometown</th>\n",
       "      <th>latitude</th>\n",
       "      <th>longitude</th>\n",
       "      <th>reason</th>\n",
       "      <th>time</th>\n",
       "      <th>method</th>\n",
       "      <th>suicide_date</th>\n",
       "      <th>unix_time</th>\n",
       "      <th>weather_main</th>\n",
       "    </tr>\n",
       "    <tr>\n",
       "      <th>id</th>\n",
       "      <th></th>\n",
       "      <th></th>\n",
       "      <th></th>\n",
       "      <th></th>\n",
       "      <th></th>\n",
       "      <th></th>\n",
       "      <th></th>\n",
       "      <th></th>\n",
       "      <th></th>\n",
       "      <th></th>\n",
       "      <th></th>\n",
       "      <th></th>\n",
       "      <th></th>\n",
       "      <th></th>\n",
       "      <th></th>\n",
       "    </tr>\n",
       "  </thead>\n",
       "  <tbody>\n",
       "    <tr>\n",
       "      <th>0</th>\n",
       "      <td>Parvez</td>\n",
       "      <td>Teen</td>\n",
       "      <td>22</td>\n",
       "      <td>Male</td>\n",
       "      <td>Worker</td>\n",
       "      <td>Muslim</td>\n",
       "      <td>Brahmanbaria</td>\n",
       "      <td>23.964142</td>\n",
       "      <td>91.118301</td>\n",
       "      <td>Harassment</td>\n",
       "      <td>afternoon</td>\n",
       "      <td>NaN</td>\n",
       "      <td>30/10/20</td>\n",
       "      <td>1604016000</td>\n",
       "      <td>Haze</td>\n",
       "    </tr>\n",
       "    <tr>\n",
       "      <th>1</th>\n",
       "      <td>Alhaj Uddin</td>\n",
       "      <td>Teen</td>\n",
       "      <td>20</td>\n",
       "      <td>Male</td>\n",
       "      <td>NaN</td>\n",
       "      <td>Muslim</td>\n",
       "      <td>Sylhet</td>\n",
       "      <td>24.894930</td>\n",
       "      <td>91.868706</td>\n",
       "      <td>Relatiohship problem</td>\n",
       "      <td>Night</td>\n",
       "      <td>Hanging</td>\n",
       "      <td>4/11/2020</td>\n",
       "      <td>1604448000</td>\n",
       "      <td>Clouds</td>\n",
       "    </tr>\n",
       "    <tr>\n",
       "      <th>2</th>\n",
       "      <td>Priti Akter</td>\n",
       "      <td>Teen</td>\n",
       "      <td>14</td>\n",
       "      <td>Female</td>\n",
       "      <td>Student</td>\n",
       "      <td>Muslim</td>\n",
       "      <td>Manikganj</td>\n",
       "      <td>23.861650</td>\n",
       "      <td>90.000320</td>\n",
       "      <td>NaN</td>\n",
       "      <td>Morning</td>\n",
       "      <td>Hanging</td>\n",
       "      <td>25/9/20</td>\n",
       "      <td>1600992000</td>\n",
       "      <td>Drizzle</td>\n",
       "    </tr>\n",
       "    <tr>\n",
       "      <th>3</th>\n",
       "      <td>Acchia Akhter</td>\n",
       "      <td>NaN</td>\n",
       "      <td>NaN</td>\n",
       "      <td>Female</td>\n",
       "      <td>Student</td>\n",
       "      <td>Muslim</td>\n",
       "      <td>Bogra</td>\n",
       "      <td>24.850980</td>\n",
       "      <td>89.371080</td>\n",
       "      <td>Relatiohship problem</td>\n",
       "      <td>Morning</td>\n",
       "      <td>Hanging</td>\n",
       "      <td>24/9/20</td>\n",
       "      <td>1600905600</td>\n",
       "      <td>Rain</td>\n",
       "    </tr>\n",
       "    <tr>\n",
       "      <th>4</th>\n",
       "      <td>Dilshad Nahar</td>\n",
       "      <td>Teen</td>\n",
       "      <td>18</td>\n",
       "      <td>Female</td>\n",
       "      <td>Student</td>\n",
       "      <td>Muslim</td>\n",
       "      <td>Dhaka</td>\n",
       "      <td>23.810331</td>\n",
       "      <td>90.412521</td>\n",
       "      <td>NaN</td>\n",
       "      <td>Night</td>\n",
       "      <td>Hanging</td>\n",
       "      <td>18/9/20</td>\n",
       "      <td>1600387200</td>\n",
       "      <td>Haze</td>\n",
       "    </tr>\n",
       "  </tbody>\n",
       "</table>\n",
       "</div>"
      ],
      "text/plain": [
       "        full_name age_group  age  gender profession_group religion  \\\n",
       "id                                                                   \n",
       "0          Parvez      Teen   22    Male           Worker   Muslim   \n",
       "1     Alhaj Uddin      Teen   20    Male              NaN   Muslim   \n",
       "2     Priti Akter      Teen   14  Female          Student   Muslim   \n",
       "3   Acchia Akhter       NaN  NaN  Female          Student   Muslim   \n",
       "4   Dilshad Nahar      Teen   18  Female          Student   Muslim   \n",
       "\n",
       "        hometown   latitude  longitude                reason       time  \\\n",
       "id                                                                        \n",
       "0   Brahmanbaria  23.964142  91.118301            Harassment  afternoon   \n",
       "1         Sylhet  24.894930  91.868706  Relatiohship problem      Night   \n",
       "2      Manikganj  23.861650  90.000320                   NaN    Morning   \n",
       "3          Bogra  24.850980  89.371080  Relatiohship problem    Morning   \n",
       "4          Dhaka  23.810331  90.412521                   NaN      Night   \n",
       "\n",
       "     method suicide_date   unix_time weather_main  \n",
       "id                                                 \n",
       "0       NaN     30/10/20  1604016000         Haze  \n",
       "1   Hanging    4/11/2020  1604448000       Clouds  \n",
       "2   Hanging      25/9/20  1600992000      Drizzle  \n",
       "3   Hanging      24/9/20  1600905600         Rain  \n",
       "4   Hanging      18/9/20  1600387200         Haze  "
      ]
     },
     "execution_count": 6,
     "metadata": {},
     "output_type": "execute_result"
    }
   ],
   "source": [
    "df.head()"
   ]
  },
  {
   "cell_type": "markdown",
   "metadata": {},
   "source": [
    "make upper-case"
   ]
  },
  {
   "cell_type": "code",
   "execution_count": 7,
   "metadata": {},
   "outputs": [
    {
     "name": "stderr",
     "output_type": "stream",
     "text": [
      "/tmp/ipykernel_172612/2985407915.py:2: FutureWarning: DataFrame.applymap has been deprecated. Use DataFrame.map instead.\n",
      "  df = df.applymap(lambda x: x.lower() if isinstance(x, str) else x)\n"
     ]
    },
    {
     "data": {
      "text/html": [
       "<div>\n",
       "<style scoped>\n",
       "    .dataframe tbody tr th:only-of-type {\n",
       "        vertical-align: middle;\n",
       "    }\n",
       "\n",
       "    .dataframe tbody tr th {\n",
       "        vertical-align: top;\n",
       "    }\n",
       "\n",
       "    .dataframe thead th {\n",
       "        text-align: right;\n",
       "    }\n",
       "</style>\n",
       "<table border=\"1\" class=\"dataframe\">\n",
       "  <thead>\n",
       "    <tr style=\"text-align: right;\">\n",
       "      <th></th>\n",
       "      <th>full_name</th>\n",
       "      <th>age_group</th>\n",
       "      <th>age</th>\n",
       "      <th>gender</th>\n",
       "      <th>profession_group</th>\n",
       "      <th>religion</th>\n",
       "      <th>hometown</th>\n",
       "      <th>latitude</th>\n",
       "      <th>longitude</th>\n",
       "      <th>reason</th>\n",
       "      <th>time</th>\n",
       "      <th>method</th>\n",
       "      <th>suicide_date</th>\n",
       "      <th>unix_time</th>\n",
       "      <th>weather_main</th>\n",
       "    </tr>\n",
       "    <tr>\n",
       "      <th>id</th>\n",
       "      <th></th>\n",
       "      <th></th>\n",
       "      <th></th>\n",
       "      <th></th>\n",
       "      <th></th>\n",
       "      <th></th>\n",
       "      <th></th>\n",
       "      <th></th>\n",
       "      <th></th>\n",
       "      <th></th>\n",
       "      <th></th>\n",
       "      <th></th>\n",
       "      <th></th>\n",
       "      <th></th>\n",
       "      <th></th>\n",
       "    </tr>\n",
       "  </thead>\n",
       "  <tbody>\n",
       "    <tr>\n",
       "      <th>0</th>\n",
       "      <td>parvez</td>\n",
       "      <td>teen</td>\n",
       "      <td>22</td>\n",
       "      <td>male</td>\n",
       "      <td>worker</td>\n",
       "      <td>muslim</td>\n",
       "      <td>brahmanbaria</td>\n",
       "      <td>23.964142</td>\n",
       "      <td>91.118301</td>\n",
       "      <td>harassment</td>\n",
       "      <td>afternoon</td>\n",
       "      <td>NaN</td>\n",
       "      <td>30/10/20</td>\n",
       "      <td>1604016000</td>\n",
       "      <td>haze</td>\n",
       "    </tr>\n",
       "    <tr>\n",
       "      <th>1</th>\n",
       "      <td>alhaj uddin</td>\n",
       "      <td>teen</td>\n",
       "      <td>20</td>\n",
       "      <td>male</td>\n",
       "      <td>NaN</td>\n",
       "      <td>muslim</td>\n",
       "      <td>sylhet</td>\n",
       "      <td>24.894930</td>\n",
       "      <td>91.868706</td>\n",
       "      <td>relatiohship problem</td>\n",
       "      <td>night</td>\n",
       "      <td>hanging</td>\n",
       "      <td>4/11/2020</td>\n",
       "      <td>1604448000</td>\n",
       "      <td>clouds</td>\n",
       "    </tr>\n",
       "    <tr>\n",
       "      <th>2</th>\n",
       "      <td>priti akter</td>\n",
       "      <td>teen</td>\n",
       "      <td>14</td>\n",
       "      <td>female</td>\n",
       "      <td>student</td>\n",
       "      <td>muslim</td>\n",
       "      <td>manikganj</td>\n",
       "      <td>23.861650</td>\n",
       "      <td>90.000320</td>\n",
       "      <td>NaN</td>\n",
       "      <td>morning</td>\n",
       "      <td>hanging</td>\n",
       "      <td>25/9/20</td>\n",
       "      <td>1600992000</td>\n",
       "      <td>drizzle</td>\n",
       "    </tr>\n",
       "    <tr>\n",
       "      <th>3</th>\n",
       "      <td>acchia akhter</td>\n",
       "      <td>NaN</td>\n",
       "      <td>NaN</td>\n",
       "      <td>female</td>\n",
       "      <td>student</td>\n",
       "      <td>muslim</td>\n",
       "      <td>bogra</td>\n",
       "      <td>24.850980</td>\n",
       "      <td>89.371080</td>\n",
       "      <td>relatiohship problem</td>\n",
       "      <td>morning</td>\n",
       "      <td>hanging</td>\n",
       "      <td>24/9/20</td>\n",
       "      <td>1600905600</td>\n",
       "      <td>rain</td>\n",
       "    </tr>\n",
       "    <tr>\n",
       "      <th>4</th>\n",
       "      <td>dilshad nahar</td>\n",
       "      <td>teen</td>\n",
       "      <td>18</td>\n",
       "      <td>female</td>\n",
       "      <td>student</td>\n",
       "      <td>muslim</td>\n",
       "      <td>dhaka</td>\n",
       "      <td>23.810331</td>\n",
       "      <td>90.412521</td>\n",
       "      <td>NaN</td>\n",
       "      <td>night</td>\n",
       "      <td>hanging</td>\n",
       "      <td>18/9/20</td>\n",
       "      <td>1600387200</td>\n",
       "      <td>haze</td>\n",
       "    </tr>\n",
       "  </tbody>\n",
       "</table>\n",
       "</div>"
      ],
      "text/plain": [
       "        full_name age_group  age  gender profession_group religion  \\\n",
       "id                                                                   \n",
       "0          parvez      teen   22    male           worker   muslim   \n",
       "1     alhaj uddin      teen   20    male              NaN   muslim   \n",
       "2     priti akter      teen   14  female          student   muslim   \n",
       "3   acchia akhter       NaN  NaN  female          student   muslim   \n",
       "4   dilshad nahar      teen   18  female          student   muslim   \n",
       "\n",
       "        hometown   latitude  longitude                reason       time  \\\n",
       "id                                                                        \n",
       "0   brahmanbaria  23.964142  91.118301            harassment  afternoon   \n",
       "1         sylhet  24.894930  91.868706  relatiohship problem      night   \n",
       "2      manikganj  23.861650  90.000320                   NaN    morning   \n",
       "3          bogra  24.850980  89.371080  relatiohship problem    morning   \n",
       "4          dhaka  23.810331  90.412521                   NaN      night   \n",
       "\n",
       "     method suicide_date   unix_time weather_main  \n",
       "id                                                 \n",
       "0       NaN     30/10/20  1604016000         haze  \n",
       "1   hanging    4/11/2020  1604448000       clouds  \n",
       "2   hanging      25/9/20  1600992000      drizzle  \n",
       "3   hanging      24/9/20  1600905600         rain  \n",
       "4   hanging      18/9/20  1600387200         haze  "
      ]
     },
     "execution_count": 7,
     "metadata": {},
     "output_type": "execute_result"
    }
   ],
   "source": [
    "# make all upper case letter to lower for better analysis\n",
    "df = df.applymap(lambda x: x.lower() if isinstance(x, str) else x)\n",
    "df.head(5)"
   ]
  },
  {
   "cell_type": "markdown",
   "metadata": {},
   "source": [
    "create new age group"
   ]
  },
  {
   "cell_type": "code",
   "execution_count": 8,
   "metadata": {},
   "outputs": [],
   "source": [
    "# convert age to numeric\n",
    "df['age'] = pd.to_numeric(df['age'], errors='coerce')\n"
   ]
  },
  {
   "cell_type": "code",
   "execution_count": 9,
   "metadata": {},
   "outputs": [],
   "source": [
    "# make new age group\n",
    "\n",
    "bins = [1, 20, 40, 60, 75, 120]\n",
    "labels = ['teen', 'young_adult', 'middle_age', 'young_old', 'old_old']\n",
    "\n",
    "df['age_group2'] = pd.cut(df['age'], bins=bins, labels=labels, right=False)"
   ]
  },
  {
   "cell_type": "code",
   "execution_count": 10,
   "metadata": {},
   "outputs": [],
   "source": [
    "# drop old age group and name age_group2 to age group\n",
    "df.drop('age_group',axis=1,inplace=True)\n"
   ]
  },
  {
   "cell_type": "code",
   "execution_count": 11,
   "metadata": {},
   "outputs": [],
   "source": [
    "df['age_group'] = df['age_group2']"
   ]
  },
  {
   "cell_type": "code",
   "execution_count": 12,
   "metadata": {},
   "outputs": [],
   "source": [
    "df.drop('age_group2',axis=1,inplace=True)"
   ]
  },
  {
   "cell_type": "markdown",
   "metadata": {},
   "source": [
    "clean 'profession_group' column"
   ]
  },
  {
   "cell_type": "code",
   "execution_count": 13,
   "metadata": {},
   "outputs": [
    {
     "data": {
      "text/html": [
       "<div>\n",
       "<style scoped>\n",
       "    .dataframe tbody tr th:only-of-type {\n",
       "        vertical-align: middle;\n",
       "    }\n",
       "\n",
       "    .dataframe tbody tr th {\n",
       "        vertical-align: top;\n",
       "    }\n",
       "\n",
       "    .dataframe thead th {\n",
       "        text-align: right;\n",
       "    }\n",
       "</style>\n",
       "<table border=\"1\" class=\"dataframe\">\n",
       "  <thead>\n",
       "    <tr style=\"text-align: right;\">\n",
       "      <th></th>\n",
       "      <th>full_name</th>\n",
       "      <th>age</th>\n",
       "      <th>gender</th>\n",
       "      <th>profession_group</th>\n",
       "      <th>religion</th>\n",
       "      <th>hometown</th>\n",
       "      <th>latitude</th>\n",
       "      <th>longitude</th>\n",
       "      <th>reason</th>\n",
       "      <th>time</th>\n",
       "      <th>method</th>\n",
       "      <th>suicide_date</th>\n",
       "      <th>unix_time</th>\n",
       "      <th>weather_main</th>\n",
       "      <th>age_group</th>\n",
       "    </tr>\n",
       "    <tr>\n",
       "      <th>id</th>\n",
       "      <th></th>\n",
       "      <th></th>\n",
       "      <th></th>\n",
       "      <th></th>\n",
       "      <th></th>\n",
       "      <th></th>\n",
       "      <th></th>\n",
       "      <th></th>\n",
       "      <th></th>\n",
       "      <th></th>\n",
       "      <th></th>\n",
       "      <th></th>\n",
       "      <th></th>\n",
       "      <th></th>\n",
       "      <th></th>\n",
       "    </tr>\n",
       "  </thead>\n",
       "  <tbody>\n",
       "    <tr>\n",
       "      <th>0</th>\n",
       "      <td>parvez</td>\n",
       "      <td>22.0</td>\n",
       "      <td>male</td>\n",
       "      <td>worker</td>\n",
       "      <td>muslim</td>\n",
       "      <td>brahmanbaria</td>\n",
       "      <td>23.964142</td>\n",
       "      <td>91.118301</td>\n",
       "      <td>harassment</td>\n",
       "      <td>afternoon</td>\n",
       "      <td>NaN</td>\n",
       "      <td>30/10/20</td>\n",
       "      <td>1604016000</td>\n",
       "      <td>haze</td>\n",
       "      <td>young_adult</td>\n",
       "    </tr>\n",
       "    <tr>\n",
       "      <th>1</th>\n",
       "      <td>alhaj uddin</td>\n",
       "      <td>20.0</td>\n",
       "      <td>male</td>\n",
       "      <td>NaN</td>\n",
       "      <td>muslim</td>\n",
       "      <td>sylhet</td>\n",
       "      <td>24.894930</td>\n",
       "      <td>91.868706</td>\n",
       "      <td>relatiohship problem</td>\n",
       "      <td>night</td>\n",
       "      <td>hanging</td>\n",
       "      <td>4/11/2020</td>\n",
       "      <td>1604448000</td>\n",
       "      <td>clouds</td>\n",
       "      <td>young_adult</td>\n",
       "    </tr>\n",
       "    <tr>\n",
       "      <th>2</th>\n",
       "      <td>priti akter</td>\n",
       "      <td>14.0</td>\n",
       "      <td>female</td>\n",
       "      <td>student</td>\n",
       "      <td>muslim</td>\n",
       "      <td>manikganj</td>\n",
       "      <td>23.861650</td>\n",
       "      <td>90.000320</td>\n",
       "      <td>NaN</td>\n",
       "      <td>morning</td>\n",
       "      <td>hanging</td>\n",
       "      <td>25/9/20</td>\n",
       "      <td>1600992000</td>\n",
       "      <td>drizzle</td>\n",
       "      <td>teen</td>\n",
       "    </tr>\n",
       "    <tr>\n",
       "      <th>3</th>\n",
       "      <td>acchia akhter</td>\n",
       "      <td>NaN</td>\n",
       "      <td>female</td>\n",
       "      <td>student</td>\n",
       "      <td>muslim</td>\n",
       "      <td>bogra</td>\n",
       "      <td>24.850980</td>\n",
       "      <td>89.371080</td>\n",
       "      <td>relatiohship problem</td>\n",
       "      <td>morning</td>\n",
       "      <td>hanging</td>\n",
       "      <td>24/9/20</td>\n",
       "      <td>1600905600</td>\n",
       "      <td>rain</td>\n",
       "      <td>NaN</td>\n",
       "    </tr>\n",
       "    <tr>\n",
       "      <th>4</th>\n",
       "      <td>dilshad nahar</td>\n",
       "      <td>18.0</td>\n",
       "      <td>female</td>\n",
       "      <td>student</td>\n",
       "      <td>muslim</td>\n",
       "      <td>dhaka</td>\n",
       "      <td>23.810331</td>\n",
       "      <td>90.412521</td>\n",
       "      <td>NaN</td>\n",
       "      <td>night</td>\n",
       "      <td>hanging</td>\n",
       "      <td>18/9/20</td>\n",
       "      <td>1600387200</td>\n",
       "      <td>haze</td>\n",
       "      <td>teen</td>\n",
       "    </tr>\n",
       "  </tbody>\n",
       "</table>\n",
       "</div>"
      ],
      "text/plain": [
       "        full_name   age  gender profession_group religion      hometown  \\\n",
       "id                                                                        \n",
       "0          parvez  22.0    male           worker   muslim  brahmanbaria   \n",
       "1     alhaj uddin  20.0    male              NaN   muslim        sylhet   \n",
       "2     priti akter  14.0  female          student   muslim     manikganj   \n",
       "3   acchia akhter   NaN  female          student   muslim         bogra   \n",
       "4   dilshad nahar  18.0  female          student   muslim         dhaka   \n",
       "\n",
       "     latitude  longitude                reason       time   method  \\\n",
       "id                                                                   \n",
       "0   23.964142  91.118301            harassment  afternoon      NaN   \n",
       "1   24.894930  91.868706  relatiohship problem      night  hanging   \n",
       "2   23.861650  90.000320                   NaN    morning  hanging   \n",
       "3   24.850980  89.371080  relatiohship problem    morning  hanging   \n",
       "4   23.810331  90.412521                   NaN      night  hanging   \n",
       "\n",
       "   suicide_date   unix_time weather_main    age_group  \n",
       "id                                                     \n",
       "0      30/10/20  1604016000         haze  young_adult  \n",
       "1     4/11/2020  1604448000       clouds  young_adult  \n",
       "2       25/9/20  1600992000      drizzle         teen  \n",
       "3       24/9/20  1600905600         rain          NaN  \n",
       "4       18/9/20  1600387200         haze         teen  "
      ]
     },
     "execution_count": 13,
     "metadata": {},
     "output_type": "execute_result"
    }
   ],
   "source": [
    "df.head(5)"
   ]
  },
  {
   "cell_type": "code",
   "execution_count": 14,
   "metadata": {},
   "outputs": [
    {
     "data": {
      "text/plain": [
       "array(['worker', nan, 'student', 'housewife', 'service holder',\n",
       "       'day labourer', 'teacher', 'farmer', 'musician', 'saint',\n",
       "       'day laborer', 'gambler', 'null', 'actor', 'houswife', 'doctor',\n",
       "       'businessman', 'engineer', 'stportsman', 'spotsman', 'day-laborer'],\n",
       "      dtype=object)"
      ]
     },
     "execution_count": 14,
     "metadata": {},
     "output_type": "execute_result"
    }
   ],
   "source": [
    "df['profession_group'].unique()"
   ]
  },
  {
   "cell_type": "code",
   "execution_count": 15,
   "metadata": {},
   "outputs": [],
   "source": [
    "df['profession_group'] = df['profession_group'].replace(\n",
    "    {\n",
    "        'day laborer':'day-laborer',\n",
    "        'day labourer':'day-laborer',\n",
    "        'spotsman':'sportsman',\n",
    "        'stportsman':'sportsman',\n",
    "        'houswife':'housewife',\n",
    "    }\n",
    ")"
   ]
  },
  {
   "cell_type": "code",
   "execution_count": 16,
   "metadata": {},
   "outputs": [
    {
     "data": {
      "text/plain": [
       "array(['worker', nan, 'student', 'housewife', 'service holder',\n",
       "       'day-laborer', 'teacher', 'farmer', 'musician', 'saint', 'gambler',\n",
       "       'null', 'actor', 'doctor', 'businessman', 'engineer', 'sportsman'],\n",
       "      dtype=object)"
      ]
     },
     "execution_count": 16,
     "metadata": {},
     "output_type": "execute_result"
    }
   ],
   "source": [
    "df['profession_group'].unique()"
   ]
  },
  {
   "cell_type": "markdown",
   "metadata": {},
   "source": [
    "new column from unix_time"
   ]
  },
  {
   "cell_type": "code",
   "execution_count": 17,
   "metadata": {},
   "outputs": [
    {
     "data": {
      "text/html": [
       "<div>\n",
       "<style scoped>\n",
       "    .dataframe tbody tr th:only-of-type {\n",
       "        vertical-align: middle;\n",
       "    }\n",
       "\n",
       "    .dataframe tbody tr th {\n",
       "        vertical-align: top;\n",
       "    }\n",
       "\n",
       "    .dataframe thead th {\n",
       "        text-align: right;\n",
       "    }\n",
       "</style>\n",
       "<table border=\"1\" class=\"dataframe\">\n",
       "  <thead>\n",
       "    <tr style=\"text-align: right;\">\n",
       "      <th></th>\n",
       "      <th>full_name</th>\n",
       "      <th>age</th>\n",
       "      <th>gender</th>\n",
       "      <th>profession_group</th>\n",
       "      <th>religion</th>\n",
       "      <th>hometown</th>\n",
       "      <th>latitude</th>\n",
       "      <th>longitude</th>\n",
       "      <th>reason</th>\n",
       "      <th>time</th>\n",
       "      <th>method</th>\n",
       "      <th>suicide_date</th>\n",
       "      <th>unix_time</th>\n",
       "      <th>weather_main</th>\n",
       "      <th>age_group</th>\n",
       "    </tr>\n",
       "    <tr>\n",
       "      <th>id</th>\n",
       "      <th></th>\n",
       "      <th></th>\n",
       "      <th></th>\n",
       "      <th></th>\n",
       "      <th></th>\n",
       "      <th></th>\n",
       "      <th></th>\n",
       "      <th></th>\n",
       "      <th></th>\n",
       "      <th></th>\n",
       "      <th></th>\n",
       "      <th></th>\n",
       "      <th></th>\n",
       "      <th></th>\n",
       "      <th></th>\n",
       "    </tr>\n",
       "  </thead>\n",
       "  <tbody>\n",
       "    <tr>\n",
       "      <th>0</th>\n",
       "      <td>parvez</td>\n",
       "      <td>22.0</td>\n",
       "      <td>male</td>\n",
       "      <td>worker</td>\n",
       "      <td>muslim</td>\n",
       "      <td>brahmanbaria</td>\n",
       "      <td>23.964142</td>\n",
       "      <td>91.118301</td>\n",
       "      <td>harassment</td>\n",
       "      <td>afternoon</td>\n",
       "      <td>NaN</td>\n",
       "      <td>30/10/20</td>\n",
       "      <td>1604016000</td>\n",
       "      <td>haze</td>\n",
       "      <td>young_adult</td>\n",
       "    </tr>\n",
       "    <tr>\n",
       "      <th>1</th>\n",
       "      <td>alhaj uddin</td>\n",
       "      <td>20.0</td>\n",
       "      <td>male</td>\n",
       "      <td>NaN</td>\n",
       "      <td>muslim</td>\n",
       "      <td>sylhet</td>\n",
       "      <td>24.894930</td>\n",
       "      <td>91.868706</td>\n",
       "      <td>relatiohship problem</td>\n",
       "      <td>night</td>\n",
       "      <td>hanging</td>\n",
       "      <td>4/11/2020</td>\n",
       "      <td>1604448000</td>\n",
       "      <td>clouds</td>\n",
       "      <td>young_adult</td>\n",
       "    </tr>\n",
       "    <tr>\n",
       "      <th>2</th>\n",
       "      <td>priti akter</td>\n",
       "      <td>14.0</td>\n",
       "      <td>female</td>\n",
       "      <td>student</td>\n",
       "      <td>muslim</td>\n",
       "      <td>manikganj</td>\n",
       "      <td>23.861650</td>\n",
       "      <td>90.000320</td>\n",
       "      <td>NaN</td>\n",
       "      <td>morning</td>\n",
       "      <td>hanging</td>\n",
       "      <td>25/9/20</td>\n",
       "      <td>1600992000</td>\n",
       "      <td>drizzle</td>\n",
       "      <td>teen</td>\n",
       "    </tr>\n",
       "  </tbody>\n",
       "</table>\n",
       "</div>"
      ],
      "text/plain": [
       "      full_name   age  gender profession_group religion      hometown  \\\n",
       "id                                                                      \n",
       "0        parvez  22.0    male           worker   muslim  brahmanbaria   \n",
       "1   alhaj uddin  20.0    male              NaN   muslim        sylhet   \n",
       "2   priti akter  14.0  female          student   muslim     manikganj   \n",
       "\n",
       "     latitude  longitude                reason       time   method  \\\n",
       "id                                                                   \n",
       "0   23.964142  91.118301            harassment  afternoon      NaN   \n",
       "1   24.894930  91.868706  relatiohship problem      night  hanging   \n",
       "2   23.861650  90.000320                   NaN    morning  hanging   \n",
       "\n",
       "   suicide_date   unix_time weather_main    age_group  \n",
       "id                                                     \n",
       "0      30/10/20  1604016000         haze  young_adult  \n",
       "1     4/11/2020  1604448000       clouds  young_adult  \n",
       "2       25/9/20  1600992000      drizzle         teen  "
      ]
     },
     "execution_count": 17,
     "metadata": {},
     "output_type": "execute_result"
    }
   ],
   "source": [
    "df.head(3)"
   ]
  },
  {
   "cell_type": "code",
   "execution_count": 18,
   "metadata": {},
   "outputs": [],
   "source": [
    "df['time_stamp'] = pd.to_datetime(df['unix_time'], unit='s')"
   ]
  },
  {
   "cell_type": "code",
   "execution_count": 19,
   "metadata": {},
   "outputs": [],
   "source": [
    "df.drop(['suicide_date','unix_time'],axis=1,inplace=True)"
   ]
  },
  {
   "cell_type": "code",
   "execution_count": 20,
   "metadata": {},
   "outputs": [],
   "source": [
    "df.rename(columns={'time_stamp':'suicide_date'},inplace=True)"
   ]
  },
  {
   "cell_type": "code",
   "execution_count": 21,
   "metadata": {},
   "outputs": [
    {
     "data": {
      "text/html": [
       "<div>\n",
       "<style scoped>\n",
       "    .dataframe tbody tr th:only-of-type {\n",
       "        vertical-align: middle;\n",
       "    }\n",
       "\n",
       "    .dataframe tbody tr th {\n",
       "        vertical-align: top;\n",
       "    }\n",
       "\n",
       "    .dataframe thead th {\n",
       "        text-align: right;\n",
       "    }\n",
       "</style>\n",
       "<table border=\"1\" class=\"dataframe\">\n",
       "  <thead>\n",
       "    <tr style=\"text-align: right;\">\n",
       "      <th></th>\n",
       "      <th>full_name</th>\n",
       "      <th>age</th>\n",
       "      <th>gender</th>\n",
       "      <th>profession_group</th>\n",
       "      <th>religion</th>\n",
       "      <th>hometown</th>\n",
       "      <th>latitude</th>\n",
       "      <th>longitude</th>\n",
       "      <th>reason</th>\n",
       "      <th>time</th>\n",
       "      <th>method</th>\n",
       "      <th>weather_main</th>\n",
       "      <th>age_group</th>\n",
       "      <th>suicide_date</th>\n",
       "    </tr>\n",
       "    <tr>\n",
       "      <th>id</th>\n",
       "      <th></th>\n",
       "      <th></th>\n",
       "      <th></th>\n",
       "      <th></th>\n",
       "      <th></th>\n",
       "      <th></th>\n",
       "      <th></th>\n",
       "      <th></th>\n",
       "      <th></th>\n",
       "      <th></th>\n",
       "      <th></th>\n",
       "      <th></th>\n",
       "      <th></th>\n",
       "      <th></th>\n",
       "    </tr>\n",
       "  </thead>\n",
       "  <tbody>\n",
       "    <tr>\n",
       "      <th>0</th>\n",
       "      <td>parvez</td>\n",
       "      <td>22.0</td>\n",
       "      <td>male</td>\n",
       "      <td>worker</td>\n",
       "      <td>muslim</td>\n",
       "      <td>brahmanbaria</td>\n",
       "      <td>23.964142</td>\n",
       "      <td>91.118301</td>\n",
       "      <td>harassment</td>\n",
       "      <td>afternoon</td>\n",
       "      <td>NaN</td>\n",
       "      <td>haze</td>\n",
       "      <td>young_adult</td>\n",
       "      <td>2020-10-30</td>\n",
       "    </tr>\n",
       "    <tr>\n",
       "      <th>1</th>\n",
       "      <td>alhaj uddin</td>\n",
       "      <td>20.0</td>\n",
       "      <td>male</td>\n",
       "      <td>NaN</td>\n",
       "      <td>muslim</td>\n",
       "      <td>sylhet</td>\n",
       "      <td>24.894930</td>\n",
       "      <td>91.868706</td>\n",
       "      <td>relatiohship problem</td>\n",
       "      <td>night</td>\n",
       "      <td>hanging</td>\n",
       "      <td>clouds</td>\n",
       "      <td>young_adult</td>\n",
       "      <td>2020-11-04</td>\n",
       "    </tr>\n",
       "    <tr>\n",
       "      <th>2</th>\n",
       "      <td>priti akter</td>\n",
       "      <td>14.0</td>\n",
       "      <td>female</td>\n",
       "      <td>student</td>\n",
       "      <td>muslim</td>\n",
       "      <td>manikganj</td>\n",
       "      <td>23.861650</td>\n",
       "      <td>90.000320</td>\n",
       "      <td>NaN</td>\n",
       "      <td>morning</td>\n",
       "      <td>hanging</td>\n",
       "      <td>drizzle</td>\n",
       "      <td>teen</td>\n",
       "      <td>2020-09-25</td>\n",
       "    </tr>\n",
       "    <tr>\n",
       "      <th>3</th>\n",
       "      <td>acchia akhter</td>\n",
       "      <td>NaN</td>\n",
       "      <td>female</td>\n",
       "      <td>student</td>\n",
       "      <td>muslim</td>\n",
       "      <td>bogra</td>\n",
       "      <td>24.850980</td>\n",
       "      <td>89.371080</td>\n",
       "      <td>relatiohship problem</td>\n",
       "      <td>morning</td>\n",
       "      <td>hanging</td>\n",
       "      <td>rain</td>\n",
       "      <td>NaN</td>\n",
       "      <td>2020-09-24</td>\n",
       "    </tr>\n",
       "    <tr>\n",
       "      <th>4</th>\n",
       "      <td>dilshad nahar</td>\n",
       "      <td>18.0</td>\n",
       "      <td>female</td>\n",
       "      <td>student</td>\n",
       "      <td>muslim</td>\n",
       "      <td>dhaka</td>\n",
       "      <td>23.810331</td>\n",
       "      <td>90.412521</td>\n",
       "      <td>NaN</td>\n",
       "      <td>night</td>\n",
       "      <td>hanging</td>\n",
       "      <td>haze</td>\n",
       "      <td>teen</td>\n",
       "      <td>2020-09-18</td>\n",
       "    </tr>\n",
       "  </tbody>\n",
       "</table>\n",
       "</div>"
      ],
      "text/plain": [
       "        full_name   age  gender profession_group religion      hometown  \\\n",
       "id                                                                        \n",
       "0          parvez  22.0    male           worker   muslim  brahmanbaria   \n",
       "1     alhaj uddin  20.0    male              NaN   muslim        sylhet   \n",
       "2     priti akter  14.0  female          student   muslim     manikganj   \n",
       "3   acchia akhter   NaN  female          student   muslim         bogra   \n",
       "4   dilshad nahar  18.0  female          student   muslim         dhaka   \n",
       "\n",
       "     latitude  longitude                reason       time   method  \\\n",
       "id                                                                   \n",
       "0   23.964142  91.118301            harassment  afternoon      NaN   \n",
       "1   24.894930  91.868706  relatiohship problem      night  hanging   \n",
       "2   23.861650  90.000320                   NaN    morning  hanging   \n",
       "3   24.850980  89.371080  relatiohship problem    morning  hanging   \n",
       "4   23.810331  90.412521                   NaN      night  hanging   \n",
       "\n",
       "   weather_main    age_group suicide_date  \n",
       "id                                         \n",
       "0          haze  young_adult   2020-10-30  \n",
       "1        clouds  young_adult   2020-11-04  \n",
       "2       drizzle         teen   2020-09-25  \n",
       "3          rain          NaN   2020-09-24  \n",
       "4          haze         teen   2020-09-18  "
      ]
     },
     "execution_count": 21,
     "metadata": {},
     "output_type": "execute_result"
    }
   ],
   "source": [
    "df.head()"
   ]
  },
  {
   "cell_type": "code",
   "execution_count": 22,
   "metadata": {},
   "outputs": [],
   "source": [
    "df2 = df.copy()"
   ]
  },
  {
   "cell_type": "markdown",
   "metadata": {},
   "source": [
    "## Analysis & Visualization"
   ]
  },
  {
   "cell_type": "markdown",
   "metadata": {},
   "source": [
    "### Demographic Analysis"
   ]
  },
  {
   "cell_type": "code",
   "execution_count": 23,
   "metadata": {},
   "outputs": [
    {
     "data": {
      "text/html": [
       "<div>\n",
       "<style scoped>\n",
       "    .dataframe tbody tr th:only-of-type {\n",
       "        vertical-align: middle;\n",
       "    }\n",
       "\n",
       "    .dataframe tbody tr th {\n",
       "        vertical-align: top;\n",
       "    }\n",
       "\n",
       "    .dataframe thead th {\n",
       "        text-align: right;\n",
       "    }\n",
       "</style>\n",
       "<table border=\"1\" class=\"dataframe\">\n",
       "  <thead>\n",
       "    <tr style=\"text-align: right;\">\n",
       "      <th></th>\n",
       "      <th>age_group</th>\n",
       "      <th>count</th>\n",
       "    </tr>\n",
       "  </thead>\n",
       "  <tbody>\n",
       "    <tr>\n",
       "      <th>0</th>\n",
       "      <td>young_adult</td>\n",
       "      <td>285</td>\n",
       "    </tr>\n",
       "    <tr>\n",
       "      <th>1</th>\n",
       "      <td>teen</td>\n",
       "      <td>247</td>\n",
       "    </tr>\n",
       "    <tr>\n",
       "      <th>2</th>\n",
       "      <td>middle_age</td>\n",
       "      <td>82</td>\n",
       "    </tr>\n",
       "    <tr>\n",
       "      <th>3</th>\n",
       "      <td>young_old</td>\n",
       "      <td>30</td>\n",
       "    </tr>\n",
       "    <tr>\n",
       "      <th>4</th>\n",
       "      <td>old_old</td>\n",
       "      <td>5</td>\n",
       "    </tr>\n",
       "  </tbody>\n",
       "</table>\n",
       "</div>"
      ],
      "text/plain": [
       "     age_group  count\n",
       "0  young_adult    285\n",
       "1         teen    247\n",
       "2   middle_age     82\n",
       "3    young_old     30\n",
       "4      old_old      5"
      ]
     },
     "execution_count": 23,
     "metadata": {},
     "output_type": "execute_result"
    }
   ],
   "source": [
    "# Age group Analysis\n",
    "Age_Group = df2['age_group'].value_counts().reset_index()\n",
    "Age_Group = pd.DataFrame(Age_Group, columns=['age_group','count'])\n",
    "Age_Group"
   ]
  },
  {
   "cell_type": "code",
   "execution_count": 30,
   "metadata": {},
   "outputs": [
    {
     "data": {
      "application/vnd.plotly.v1+json": {
       "config": {
        "plotlyServerURL": "https://plot.ly"
       },
       "data": [
        {
         "alignmentgroup": "True",
         "hovertemplate": "Age Group=%{x}<br>Count=%{y}<extra></extra>",
         "legendgroup": "young_adult",
         "marker": {
          "color": "#636efa",
          "pattern": {
           "shape": ""
          }
         },
         "name": "young_adult",
         "offsetgroup": "young_adult",
         "orientation": "v",
         "showlegend": true,
         "textposition": "auto",
         "type": "bar",
         "x": [
          "young_adult"
         ],
         "xaxis": "x",
         "y": [
          285
         ],
         "yaxis": "y"
        },
        {
         "alignmentgroup": "True",
         "hovertemplate": "Age Group=%{x}<br>Count=%{y}<extra></extra>",
         "legendgroup": "teen",
         "marker": {
          "color": "#EF553B",
          "pattern": {
           "shape": ""
          }
         },
         "name": "teen",
         "offsetgroup": "teen",
         "orientation": "v",
         "showlegend": true,
         "textposition": "auto",
         "type": "bar",
         "x": [
          "teen"
         ],
         "xaxis": "x",
         "y": [
          247
         ],
         "yaxis": "y"
        },
        {
         "alignmentgroup": "True",
         "hovertemplate": "Age Group=%{x}<br>Count=%{y}<extra></extra>",
         "legendgroup": "middle_age",
         "marker": {
          "color": "#00cc96",
          "pattern": {
           "shape": ""
          }
         },
         "name": "middle_age",
         "offsetgroup": "middle_age",
         "orientation": "v",
         "showlegend": true,
         "textposition": "auto",
         "type": "bar",
         "x": [
          "middle_age"
         ],
         "xaxis": "x",
         "y": [
          82
         ],
         "yaxis": "y"
        },
        {
         "alignmentgroup": "True",
         "hovertemplate": "Age Group=%{x}<br>Count=%{y}<extra></extra>",
         "legendgroup": "young_old",
         "marker": {
          "color": "#ab63fa",
          "pattern": {
           "shape": ""
          }
         },
         "name": "young_old",
         "offsetgroup": "young_old",
         "orientation": "v",
         "showlegend": true,
         "textposition": "auto",
         "type": "bar",
         "x": [
          "young_old"
         ],
         "xaxis": "x",
         "y": [
          30
         ],
         "yaxis": "y"
        },
        {
         "alignmentgroup": "True",
         "hovertemplate": "Age Group=%{x}<br>Count=%{y}<extra></extra>",
         "legendgroup": "old_old",
         "marker": {
          "color": "#FFA15A",
          "pattern": {
           "shape": ""
          }
         },
         "name": "old_old",
         "offsetgroup": "old_old",
         "orientation": "v",
         "showlegend": true,
         "textposition": "auto",
         "type": "bar",
         "x": [
          "old_old"
         ],
         "xaxis": "x",
         "y": [
          5
         ],
         "yaxis": "y"
        }
       ],
       "layout": {
        "barmode": "relative",
        "legend": {
         "title": {
          "text": "Age Group"
         },
         "tracegroupgap": 0
        },
        "template": {
         "data": {
          "bar": [
           {
            "error_x": {
             "color": "#f2f5fa"
            },
            "error_y": {
             "color": "#f2f5fa"
            },
            "marker": {
             "line": {
              "color": "rgb(17,17,17)",
              "width": 0.5
             },
             "pattern": {
              "fillmode": "overlay",
              "size": 10,
              "solidity": 0.2
             }
            },
            "type": "bar"
           }
          ],
          "barpolar": [
           {
            "marker": {
             "line": {
              "color": "rgb(17,17,17)",
              "width": 0.5
             },
             "pattern": {
              "fillmode": "overlay",
              "size": 10,
              "solidity": 0.2
             }
            },
            "type": "barpolar"
           }
          ],
          "carpet": [
           {
            "aaxis": {
             "endlinecolor": "#A2B1C6",
             "gridcolor": "#506784",
             "linecolor": "#506784",
             "minorgridcolor": "#506784",
             "startlinecolor": "#A2B1C6"
            },
            "baxis": {
             "endlinecolor": "#A2B1C6",
             "gridcolor": "#506784",
             "linecolor": "#506784",
             "minorgridcolor": "#506784",
             "startlinecolor": "#A2B1C6"
            },
            "type": "carpet"
           }
          ],
          "choropleth": [
           {
            "colorbar": {
             "outlinewidth": 0,
             "ticks": ""
            },
            "type": "choropleth"
           }
          ],
          "contour": [
           {
            "colorbar": {
             "outlinewidth": 0,
             "ticks": ""
            },
            "colorscale": [
             [
              0,
              "#0d0887"
             ],
             [
              0.1111111111111111,
              "#46039f"
             ],
             [
              0.2222222222222222,
              "#7201a8"
             ],
             [
              0.3333333333333333,
              "#9c179e"
             ],
             [
              0.4444444444444444,
              "#bd3786"
             ],
             [
              0.5555555555555556,
              "#d8576b"
             ],
             [
              0.6666666666666666,
              "#ed7953"
             ],
             [
              0.7777777777777778,
              "#fb9f3a"
             ],
             [
              0.8888888888888888,
              "#fdca26"
             ],
             [
              1,
              "#f0f921"
             ]
            ],
            "type": "contour"
           }
          ],
          "contourcarpet": [
           {
            "colorbar": {
             "outlinewidth": 0,
             "ticks": ""
            },
            "type": "contourcarpet"
           }
          ],
          "heatmap": [
           {
            "colorbar": {
             "outlinewidth": 0,
             "ticks": ""
            },
            "colorscale": [
             [
              0,
              "#0d0887"
             ],
             [
              0.1111111111111111,
              "#46039f"
             ],
             [
              0.2222222222222222,
              "#7201a8"
             ],
             [
              0.3333333333333333,
              "#9c179e"
             ],
             [
              0.4444444444444444,
              "#bd3786"
             ],
             [
              0.5555555555555556,
              "#d8576b"
             ],
             [
              0.6666666666666666,
              "#ed7953"
             ],
             [
              0.7777777777777778,
              "#fb9f3a"
             ],
             [
              0.8888888888888888,
              "#fdca26"
             ],
             [
              1,
              "#f0f921"
             ]
            ],
            "type": "heatmap"
           }
          ],
          "heatmapgl": [
           {
            "colorbar": {
             "outlinewidth": 0,
             "ticks": ""
            },
            "colorscale": [
             [
              0,
              "#0d0887"
             ],
             [
              0.1111111111111111,
              "#46039f"
             ],
             [
              0.2222222222222222,
              "#7201a8"
             ],
             [
              0.3333333333333333,
              "#9c179e"
             ],
             [
              0.4444444444444444,
              "#bd3786"
             ],
             [
              0.5555555555555556,
              "#d8576b"
             ],
             [
              0.6666666666666666,
              "#ed7953"
             ],
             [
              0.7777777777777778,
              "#fb9f3a"
             ],
             [
              0.8888888888888888,
              "#fdca26"
             ],
             [
              1,
              "#f0f921"
             ]
            ],
            "type": "heatmapgl"
           }
          ],
          "histogram": [
           {
            "marker": {
             "pattern": {
              "fillmode": "overlay",
              "size": 10,
              "solidity": 0.2
             }
            },
            "type": "histogram"
           }
          ],
          "histogram2d": [
           {
            "colorbar": {
             "outlinewidth": 0,
             "ticks": ""
            },
            "colorscale": [
             [
              0,
              "#0d0887"
             ],
             [
              0.1111111111111111,
              "#46039f"
             ],
             [
              0.2222222222222222,
              "#7201a8"
             ],
             [
              0.3333333333333333,
              "#9c179e"
             ],
             [
              0.4444444444444444,
              "#bd3786"
             ],
             [
              0.5555555555555556,
              "#d8576b"
             ],
             [
              0.6666666666666666,
              "#ed7953"
             ],
             [
              0.7777777777777778,
              "#fb9f3a"
             ],
             [
              0.8888888888888888,
              "#fdca26"
             ],
             [
              1,
              "#f0f921"
             ]
            ],
            "type": "histogram2d"
           }
          ],
          "histogram2dcontour": [
           {
            "colorbar": {
             "outlinewidth": 0,
             "ticks": ""
            },
            "colorscale": [
             [
              0,
              "#0d0887"
             ],
             [
              0.1111111111111111,
              "#46039f"
             ],
             [
              0.2222222222222222,
              "#7201a8"
             ],
             [
              0.3333333333333333,
              "#9c179e"
             ],
             [
              0.4444444444444444,
              "#bd3786"
             ],
             [
              0.5555555555555556,
              "#d8576b"
             ],
             [
              0.6666666666666666,
              "#ed7953"
             ],
             [
              0.7777777777777778,
              "#fb9f3a"
             ],
             [
              0.8888888888888888,
              "#fdca26"
             ],
             [
              1,
              "#f0f921"
             ]
            ],
            "type": "histogram2dcontour"
           }
          ],
          "mesh3d": [
           {
            "colorbar": {
             "outlinewidth": 0,
             "ticks": ""
            },
            "type": "mesh3d"
           }
          ],
          "parcoords": [
           {
            "line": {
             "colorbar": {
              "outlinewidth": 0,
              "ticks": ""
             }
            },
            "type": "parcoords"
           }
          ],
          "pie": [
           {
            "automargin": true,
            "type": "pie"
           }
          ],
          "scatter": [
           {
            "marker": {
             "line": {
              "color": "#283442"
             }
            },
            "type": "scatter"
           }
          ],
          "scatter3d": [
           {
            "line": {
             "colorbar": {
              "outlinewidth": 0,
              "ticks": ""
             }
            },
            "marker": {
             "colorbar": {
              "outlinewidth": 0,
              "ticks": ""
             }
            },
            "type": "scatter3d"
           }
          ],
          "scattercarpet": [
           {
            "marker": {
             "colorbar": {
              "outlinewidth": 0,
              "ticks": ""
             }
            },
            "type": "scattercarpet"
           }
          ],
          "scattergeo": [
           {
            "marker": {
             "colorbar": {
              "outlinewidth": 0,
              "ticks": ""
             }
            },
            "type": "scattergeo"
           }
          ],
          "scattergl": [
           {
            "marker": {
             "line": {
              "color": "#283442"
             }
            },
            "type": "scattergl"
           }
          ],
          "scattermapbox": [
           {
            "marker": {
             "colorbar": {
              "outlinewidth": 0,
              "ticks": ""
             }
            },
            "type": "scattermapbox"
           }
          ],
          "scatterpolar": [
           {
            "marker": {
             "colorbar": {
              "outlinewidth": 0,
              "ticks": ""
             }
            },
            "type": "scatterpolar"
           }
          ],
          "scatterpolargl": [
           {
            "marker": {
             "colorbar": {
              "outlinewidth": 0,
              "ticks": ""
             }
            },
            "type": "scatterpolargl"
           }
          ],
          "scatterternary": [
           {
            "marker": {
             "colorbar": {
              "outlinewidth": 0,
              "ticks": ""
             }
            },
            "type": "scatterternary"
           }
          ],
          "surface": [
           {
            "colorbar": {
             "outlinewidth": 0,
             "ticks": ""
            },
            "colorscale": [
             [
              0,
              "#0d0887"
             ],
             [
              0.1111111111111111,
              "#46039f"
             ],
             [
              0.2222222222222222,
              "#7201a8"
             ],
             [
              0.3333333333333333,
              "#9c179e"
             ],
             [
              0.4444444444444444,
              "#bd3786"
             ],
             [
              0.5555555555555556,
              "#d8576b"
             ],
             [
              0.6666666666666666,
              "#ed7953"
             ],
             [
              0.7777777777777778,
              "#fb9f3a"
             ],
             [
              0.8888888888888888,
              "#fdca26"
             ],
             [
              1,
              "#f0f921"
             ]
            ],
            "type": "surface"
           }
          ],
          "table": [
           {
            "cells": {
             "fill": {
              "color": "#506784"
             },
             "line": {
              "color": "rgb(17,17,17)"
             }
            },
            "header": {
             "fill": {
              "color": "#2a3f5f"
             },
             "line": {
              "color": "rgb(17,17,17)"
             }
            },
            "type": "table"
           }
          ]
         },
         "layout": {
          "annotationdefaults": {
           "arrowcolor": "#f2f5fa",
           "arrowhead": 0,
           "arrowwidth": 1
          },
          "autotypenumbers": "strict",
          "coloraxis": {
           "colorbar": {
            "outlinewidth": 0,
            "ticks": ""
           }
          },
          "colorscale": {
           "diverging": [
            [
             0,
             "#8e0152"
            ],
            [
             0.1,
             "#c51b7d"
            ],
            [
             0.2,
             "#de77ae"
            ],
            [
             0.3,
             "#f1b6da"
            ],
            [
             0.4,
             "#fde0ef"
            ],
            [
             0.5,
             "#f7f7f7"
            ],
            [
             0.6,
             "#e6f5d0"
            ],
            [
             0.7,
             "#b8e186"
            ],
            [
             0.8,
             "#7fbc41"
            ],
            [
             0.9,
             "#4d9221"
            ],
            [
             1,
             "#276419"
            ]
           ],
           "sequential": [
            [
             0,
             "#0d0887"
            ],
            [
             0.1111111111111111,
             "#46039f"
            ],
            [
             0.2222222222222222,
             "#7201a8"
            ],
            [
             0.3333333333333333,
             "#9c179e"
            ],
            [
             0.4444444444444444,
             "#bd3786"
            ],
            [
             0.5555555555555556,
             "#d8576b"
            ],
            [
             0.6666666666666666,
             "#ed7953"
            ],
            [
             0.7777777777777778,
             "#fb9f3a"
            ],
            [
             0.8888888888888888,
             "#fdca26"
            ],
            [
             1,
             "#f0f921"
            ]
           ],
           "sequentialminus": [
            [
             0,
             "#0d0887"
            ],
            [
             0.1111111111111111,
             "#46039f"
            ],
            [
             0.2222222222222222,
             "#7201a8"
            ],
            [
             0.3333333333333333,
             "#9c179e"
            ],
            [
             0.4444444444444444,
             "#bd3786"
            ],
            [
             0.5555555555555556,
             "#d8576b"
            ],
            [
             0.6666666666666666,
             "#ed7953"
            ],
            [
             0.7777777777777778,
             "#fb9f3a"
            ],
            [
             0.8888888888888888,
             "#fdca26"
            ],
            [
             1,
             "#f0f921"
            ]
           ]
          },
          "colorway": [
           "#636efa",
           "#EF553B",
           "#00cc96",
           "#ab63fa",
           "#FFA15A",
           "#19d3f3",
           "#FF6692",
           "#B6E880",
           "#FF97FF",
           "#FECB52"
          ],
          "font": {
           "color": "#f2f5fa"
          },
          "geo": {
           "bgcolor": "rgb(17,17,17)",
           "lakecolor": "rgb(17,17,17)",
           "landcolor": "rgb(17,17,17)",
           "showlakes": true,
           "showland": true,
           "subunitcolor": "#506784"
          },
          "hoverlabel": {
           "align": "left"
          },
          "hovermode": "closest",
          "mapbox": {
           "style": "dark"
          },
          "paper_bgcolor": "rgb(17,17,17)",
          "plot_bgcolor": "rgb(17,17,17)",
          "polar": {
           "angularaxis": {
            "gridcolor": "#506784",
            "linecolor": "#506784",
            "ticks": ""
           },
           "bgcolor": "rgb(17,17,17)",
           "radialaxis": {
            "gridcolor": "#506784",
            "linecolor": "#506784",
            "ticks": ""
           }
          },
          "scene": {
           "xaxis": {
            "backgroundcolor": "rgb(17,17,17)",
            "gridcolor": "#506784",
            "gridwidth": 2,
            "linecolor": "#506784",
            "showbackground": true,
            "ticks": "",
            "zerolinecolor": "#C8D4E3"
           },
           "yaxis": {
            "backgroundcolor": "rgb(17,17,17)",
            "gridcolor": "#506784",
            "gridwidth": 2,
            "linecolor": "#506784",
            "showbackground": true,
            "ticks": "",
            "zerolinecolor": "#C8D4E3"
           },
           "zaxis": {
            "backgroundcolor": "rgb(17,17,17)",
            "gridcolor": "#506784",
            "gridwidth": 2,
            "linecolor": "#506784",
            "showbackground": true,
            "ticks": "",
            "zerolinecolor": "#C8D4E3"
           }
          },
          "shapedefaults": {
           "line": {
            "color": "#f2f5fa"
           }
          },
          "sliderdefaults": {
           "bgcolor": "#C8D4E3",
           "bordercolor": "rgb(17,17,17)",
           "borderwidth": 1,
           "tickwidth": 0
          },
          "ternary": {
           "aaxis": {
            "gridcolor": "#506784",
            "linecolor": "#506784",
            "ticks": ""
           },
           "baxis": {
            "gridcolor": "#506784",
            "linecolor": "#506784",
            "ticks": ""
           },
           "bgcolor": "rgb(17,17,17)",
           "caxis": {
            "gridcolor": "#506784",
            "linecolor": "#506784",
            "ticks": ""
           }
          },
          "title": {
           "x": 0.05
          },
          "updatemenudefaults": {
           "bgcolor": "#506784",
           "borderwidth": 0
          },
          "xaxis": {
           "automargin": true,
           "gridcolor": "#283442",
           "linecolor": "#506784",
           "ticks": "",
           "title": {
            "standoff": 15
           },
           "zerolinecolor": "#283442",
           "zerolinewidth": 2
          },
          "yaxis": {
           "automargin": true,
           "gridcolor": "#283442",
           "linecolor": "#506784",
           "ticks": "",
           "title": {
            "standoff": 15
           },
           "zerolinecolor": "#283442",
           "zerolinewidth": 2
          }
         }
        },
        "title": {
         "text": "Age Group Distribution"
        },
        "xaxis": {
         "anchor": "y",
         "categoryarray": [
          "young_adult",
          "teen",
          "middle_age",
          "young_old",
          "old_old"
         ],
         "categoryorder": "array",
         "domain": [
          0,
          1
         ],
         "title": {
          "text": "Age Group"
         }
        },
        "yaxis": {
         "anchor": "x",
         "domain": [
          0,
          1
         ],
         "title": {
          "text": "Count"
         }
        }
       }
      }
     },
     "metadata": {},
     "output_type": "display_data"
    }
   ],
   "source": [
    "fig = px.bar(Age_Group, x='age_group', y='count', \n",
    "             title='Age Group Distribution', \n",
    "             color='age_group',\n",
    "             labels={'age_group': 'Age Group', 'count': 'Count'},\n",
    "             template='plotly_dark')\n",
    "fig.show()"
   ]
  },
  {
   "cell_type": "code",
   "execution_count": 33,
   "metadata": {},
   "outputs": [
    {
     "data": {
      "text/plain": [
       "<function matplotlib.pyplot.show(close=None, block=None)>"
      ]
     },
     "execution_count": 33,
     "metadata": {},
     "output_type": "execute_result"
    },
    {
     "data": {
      "image/png": "[encoded data removed]",
      "text/plain": [
       "<Figure size 640x480 with 1 Axes>"
      ]
     },
     "metadata": {},
     "output_type": "display_data"
    }
   ],
   "source": [
    "\n",
    "cmap = plt.get_cmap('viridis')\n",
    "normalize = plt.Normalize(min(Age_Group['count']), max(Age_Group['count']))\n",
    "colors = cmap(normalize(Age_Group['count']))\n",
    "\n",
    "plt.bar(Age_Group['age_group'],Age_Group['count'],color = colors)\n",
    "plt.xlabel('Age_Group')\n",
    "plt.title('Age Group Distribution')\n",
    "\n",
    "plt.show"
   ]
  },
  {
   "cell_type": "markdown",
   "metadata": {},
   "source": []
  }
 ],
 "metadata": {
  "kernelspec": {
   "display_name": "mydataenv",
   "language": "python",
   "name": "python3"
  },
  "language_info": {
   "codemirror_mode": {
    "name": "ipython",
    "version": 3
   },
   "file_extension": ".py",
   "mimetype": "text/x-python",
   "name": "python",
   "nbconvert_exporter": "python",
   "pygments_lexer": "ipython3",
   "version": "3.11.9"
  }
 },
 "nbformat": 4,
 "nbformat_minor": 2
}
